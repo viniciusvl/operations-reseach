{
 "cells": [
  {
   "cell_type": "code",
   "execution_count": 1,
   "id": "626977f1",
   "metadata": {},
   "outputs": [],
   "source": [
    "from mip import *"
   ]
  },
  {
   "cell_type": "code",
   "execution_count": 2,
   "id": "dcab1965",
   "metadata": {},
   "outputs": [],
   "source": [
    "def ler_arquivo(file: str):\n",
    "    restricoes = []\n",
    "    objetivo = []\n",
    "    n_var = 0\n",
    "    n_rest = 0\n",
    "\n",
    "    with open(file, \"r\") as arquivo:\n",
    "        primeira_linha = arquivo.readline()\n",
    "        info_quant = [int(n) for n in primeira_linha.split()]\n",
    "\n",
    "        n_var = info_quant[0]\n",
    "        n_rest = info_quant[1]\n",
    "        \n",
    "        objetivo = [int(n) for n in arquivo.readline().split()]\n",
    "        \n",
    "        for linha in arquivo:\n",
    "            restricoes.append([int(n) for n in linha.split()])\n",
    "    \n",
    "    return n_var, n_rest, restricoes, objetivo\n",
    "    "
   ]
  },
  {
   "cell_type": "code",
   "execution_count": 3,
   "id": "1c7d7c24",
   "metadata": {},
   "outputs": [
    {
     "name": "stdout",
     "output_type": "stream",
     "text": [
      "Coeficientes da função objetivo: [2, 10, 8, 7, 10, 10, 6]\n",
      "Coeficiente de restrições: [[5, 7, 8, 1, 7, 5, 6, 20], [1, 6, 4, 9, 10, 6, 10, 30], [4, 4, 4, 1, 5, 5, 10, 40], [3, 10, 8, 1, 3, 3, 8, 30], [10, 8, 9, 9, 7, 6, 10, 20], [6, 6, 3, 6, 3, 7, 2, 80], [7, 10, 7, 8, 7, 8, 7, 100], [9, 8, 1, 1, 8, 10, 2, 90], [1, 5, 3, 10, 2, 4, 9, 70], [9, 6, 1, 4, 7, 5, 10, 60], [5, 7, 4, 4, 3, 4, 10, 40]]\n",
      "Número de variáveis: 7\n",
      "Número de restricoes: 11\n"
     ]
    }
   ],
   "source": [
    "n_var, n_rest, restricoes, objetivo = ler_arquivo(\"teste1.txt\")\n",
    "\n",
    "print(f'Coeficientes da função objetivo: {objetivo}')\n",
    "print(f'Coeficiente de restrições: {restricoes}')\n",
    "print(f'Número de variáveis: {n_var}')\n",
    "print(f'Número de restricoes: {n_rest}')    "
   ]
  },
  {
   "cell_type": "code",
   "execution_count": 4,
   "id": "cc332ea2",
   "metadata": {},
   "outputs": [],
   "source": [
    "m = Model(sense=MAXIMIZE, solver_name=CBC)\n",
    "\n",
    "# Criando variáveis\n",
    "x = [m.add_var(var_type=CONTINUOUS,name=f'x_{i+1}') for i in range(n_var)]\n",
    "\n",
    "# Função objetivo:\n",
    "m.objective = xsum(x[i] * objetivo[i] for i in range(n_var))\n",
    "\n",
    "# Adicionando restricoes:\n",
    "for r in range(n_rest):\n",
    "    m += xsum(x[i] * restricoes[r][i] for i in range(n_var)) <= restricoes[r][-1]\n"
   ]
  },
  {
   "cell_type": "code",
   "execution_count": 5,
   "id": "a3717582",
   "metadata": {},
   "outputs": [],
   "source": [
    "def show(m):\n",
    "    m.optimize()\n",
    "\n",
    "    print(f\"Solution value  = {m.objective_value:.4f}\\n\")\n",
    "\n",
    "    print(f\"type: {m.vars}\")\n",
    "\n",
    "    print(\"Solution:\")\n",
    "    for v in m.vars:\n",
    "        print(f\"{v.name} = {v.x:.4f}\")"
   ]
  },
  {
   "cell_type": "code",
   "execution_count": 6,
   "id": "7a635976",
   "metadata": {},
   "outputs": [],
   "source": [
    "def allIntegers(vars):\n",
    "    return all(n.x.is_integer() for n in vars)"
   ]
  }
 ],
 "metadata": {
  "kernelspec": {
   "display_name": "venv",
   "language": "python",
   "name": "python3"
  },
  "language_info": {
   "codemirror_mode": {
    "name": "ipython",
    "version": 3
   },
   "file_extension": ".py",
   "mimetype": "text/x-python",
   "name": "python",
   "nbconvert_exporter": "python",
   "pygments_lexer": "ipython3",
   "version": "3.13.7"
  }
 },
 "nbformat": 4,
 "nbformat_minor": 5
}
